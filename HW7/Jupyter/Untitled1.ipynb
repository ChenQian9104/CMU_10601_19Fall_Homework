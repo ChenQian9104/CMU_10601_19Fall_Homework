{
 "cells": [
  {
   "cell_type": "code",
   "execution_count": 1,
   "metadata": {},
   "outputs": [],
   "source": [
    "import numpy as np"
   ]
  },
  {
   "cell_type": "code",
   "execution_count": 2,
   "metadata": {},
   "outputs": [],
   "source": [
    "def load_index(filename):\n",
    "    index = 0\n",
    "    word_to_index, index_to_word = {}, {}\n",
    "    with open(filename) as f:\n",
    "        for line in f.readlines():\n",
    "            index += 1 \n",
    "            word = line.strip('\\n')\n",
    "            word_to_index[word] = index\n",
    "            index_to_word[index] = word\n",
    "            \n",
    "    return word_to_index, index_to_word"
   ]
  },
  {
   "cell_type": "code",
   "execution_count": 3,
   "metadata": {},
   "outputs": [],
   "source": [
    "def load_hmm_prob(filename):\n",
    "    hmm_prob = []\n",
    "    with open(filename) as f:\n",
    "        lines = f.readlines()\n",
    "    \n",
    "    for line in lines:\n",
    "        line = line.strip(' \\n')\n",
    "        nums = line.split(' ')\n",
    "        hmm_prob.append([float(num) for num in nums])\n",
    "    return np.array(hmm_prob)"
   ]
  },
  {
   "cell_type": "code",
   "execution_count": 4,
   "metadata": {},
   "outputs": [],
   "source": [
    "test_input = 'testwords.txt'\n",
    "index_to_word_file = 'index_to_word.txt'\n",
    "index_to_tag_file = 'index_to_tag.txt'\n",
    "hmmprior = 'hmmprior.txt'\n",
    "hmmemit = 'hmmemit.txt'\n",
    "hmmtrans = 'hmmtrans.txt'\n",
    "predicted_file = 'predicted.txt'\n",
    "metric_file = 'metrics.txt'"
   ]
  },
  {
   "cell_type": "code",
   "execution_count": 5,
   "metadata": {
    "scrolled": true
   },
   "outputs": [],
   "source": [
    "content = []\n",
    "with open(test_input) as f:\n",
    "    for line in f.readlines():\n",
    "        content.append(line.strip('\\n'))\n",
    "        \n",
    "word_to_index,index_to_word = load_index(index_to_word_file)\n",
    "tag_to_index, index_to_tag = load_index(index_to_tag_file)"
   ]
  },
  {
   "cell_type": "code",
   "execution_count": 10,
   "metadata": {},
   "outputs": [],
   "source": [
    "num_states = len(index_to_tag)\n",
    "num_words = len(index_to_word)"
   ]
  },
  {
   "cell_type": "code",
   "execution_count": 11,
   "metadata": {},
   "outputs": [],
   "source": [
    "prior = []\n",
    "with open(hmmprior) as f:\n",
    "    for _ in range(num_states):\n",
    "        line = f.readline()\n",
    "        num = line.strip('\\n')\n",
    "        prior.append( float(num))\n",
    "prior = np.array(prior).reshape((num_states, 1))"
   ]
  },
  {
   "cell_type": "code",
   "execution_count": 12,
   "metadata": {},
   "outputs": [],
   "source": [
    "A = load_hmm_prob(hmmtrans)\n",
    "B = load_hmm_prob(hmmemit)"
   ]
  },
  {
   "cell_type": "code",
   "execution_count": 14,
   "metadata": {},
   "outputs": [],
   "source": [
    "def word_tag_separation( line ):\n",
    "    word_to_tag = line.split(' ')\n",
    "    words, tags = [], []\n",
    "    for combination in word_to_tag:\n",
    "        word, tag = combination.split('_')\n",
    "        words.append(word)\n",
    "        tags.append(tag)\n",
    "    return words, tags\n",
    "    "
   ]
  },
  {
   "cell_type": "code",
   "execution_count": 105,
   "metadata": {},
   "outputs": [],
   "source": [
    "words, tags = word_tag_separation( content[0] )"
   ]
  },
  {
   "cell_type": "code",
   "execution_count": 106,
   "metadata": {},
   "outputs": [],
   "source": [
    "alpha, pt = forward( words, word_to_index, prior, A, B, num_states)\n",
    "a = predict(alpha,pt,index_to_tag)"
   ]
  },
  {
   "cell_type": "code",
   "execution_count": 107,
   "metadata": {},
   "outputs": [
    {
     "data": {
      "text/plain": [
       "array([[-11.24557695],\n",
       "       [-17.57360755],\n",
       "       [-22.0927526 ],\n",
       "       [-26.61189765],\n",
       "       [-31.13104269],\n",
       "       [-43.33680908],\n",
       "       [-55.54257546],\n",
       "       [-65.92880062],\n",
       "       [-66.26720109],\n",
       "       [-70.78634613],\n",
       "       [-80.59421724]])"
      ]
     },
     "execution_count": 107,
     "metadata": {},
     "output_type": "execute_result"
    }
   ],
   "source": [
    "alpha[:][-1].reshape((11,-1))"
   ]
  },
  {
   "cell_type": "code",
   "execution_count": 90,
   "metadata": {},
   "outputs": [],
   "source": [
    "def forward(words,word_to_index, prior, A, B,num_states):\n",
    "    nt = len(words)\n",
    "    alpha = np.zeros( (num_states, nt) )    # alpha table from forward propagation\n",
    "    pt = np.zeros( (num_states, nt) )\n",
    "    \n",
    "    word = words[0]\n",
    "    for i in range(num_states):\n",
    "    \n",
    "        alpha[i,0] = np.log( prior[i]) + np.log( B[i, word_to_index[word]] )\n",
    "        pt[i,0] = i+1\n",
    "        \n",
    "    for t in range(1,nt):\n",
    "        word = words[t]\n",
    "    \n",
    "        for j in range(num_states):\n",
    "            lw = np.log( B[j, word_to_index[word]] ) + \\\n",
    "            np.log( A[:, j].reshape((num_states, -1)) ) + \\\n",
    "            alpha[:,t-1].reshape( (num_states,-1))\n",
    "        \n",
    "            alpha[j,t] = max(lw)\n",
    "            pt[j,t] = np.argmax(lw) + 1\n",
    "            \n",
    "    return alpha, pt\n",
    "\n",
    "def predict(alpha,pt, index_to_tag):\n",
    "    predicted_tag = []\n",
    "    index = np.argmax( alpha[:,-1] )\n",
    "    predicted_tag.append( index_to_tag[index + 1] )\n",
    "    \n",
    "    for t in range( len(alpha[0]) - 1, 0, -1):\n",
    "        index = pt[int(index) - 1, t]\n",
    "        predicted_tag.append( index_to_tag[index])\n",
    "    \n",
    "    return list(reversed(predicted_tag) )   \n",
    "    "
   ]
  },
  {
   "cell_type": "code",
   "execution_count": 104,
   "metadata": {},
   "outputs": [],
   "source": [
    "def forward(words,word_to_index, prior, A, B,num_states):\n",
    "    nt = len(words)\n",
    "    alpha = np.zeros( (num_states, nt) )    # alpha table from forward propagation\n",
    "    pt = np.zeros( (num_states, nt) )\n",
    "    \n",
    "    word = words[0]\n",
    "    for i in range(num_states):\n",
    "    \n",
    "        alpha[i,0] = np.log( prior[i]) + np.log( B[i, word_to_index[word]] )\n",
    "        pt[i,0] = i+1\n",
    "        \n",
    "    for t in range(1,nt):\n",
    "        word = words[t]\n",
    "    \n",
    "        for j in range(num_states):\n",
    "            lw = []\n",
    "            for k in range(num_states):\n",
    "                log_likelihood = np.log( B[j][ word_to_index[word] ]) + \\\n",
    "                np.log( A[k][j]) + alpha[k][t-1]\n",
    "                lw.append( log_likelihood )\n",
    "            \n",
    "            alpha[j][t] = max(lw)\n",
    "            pt[j][t] = lw.index( max(lw) ) + 1\n",
    "    return alpha, pt\n",
    "\n",
    "def predict(alpha,pt, index_to_tag):\n",
    "    predicted_tag = []\n",
    "    index = np.argmax( alpha[:,-1] )\n",
    "    predicted_tag.append( index_to_tag[index + 1] )\n",
    "    \n",
    "    for t in range( len(alpha[0]) - 1, 0, -1):\n",
    "        index = pt[int(index) - 1, t]\n",
    "        predicted_tag.append( index_to_tag[index])\n",
    "    \n",
    "    return list(reversed(predicted_tag) )   \n",
    "    "
   ]
  },
  {
   "cell_type": "code",
   "execution_count": 21,
   "metadata": {},
   "outputs": [],
   "source": [
    "nt = len(words)\n",
    "alpha = np.zeros( (num_states, nt) )    # alpha table from forward propagation\n",
    "pt = np.zeros( (num_states, nt) )\n",
    "for i in range(num_states):\n",
    "    word = words[0]\n",
    "    alpha[i,0] = np.log( prior[i]*B[i, word_to_index[word]] )\n",
    "    pt[i,0] = i+1\n",
    "\n",
    "for t in range(1,nt):\n",
    "    word = words[t]\n",
    "    \n",
    "    for j in range(num_states):\n",
    "        lw = np.log( B[j, word_to_index[word]] ) + \\\n",
    "        np.log( A[:, j].reshape((num_states, -1)) ) + \\\n",
    "        alpha[:,t-1].reshape( (num_states,-1))\n",
    "        \n",
    "        alpha[j,t] = max(lw)\n",
    "        pt[j,t] = np.argmax(lw) + 1\n",
    "        \n",
    "        "
   ]
  },
  {
   "cell_type": "code",
   "execution_count": 76,
   "metadata": {},
   "outputs": [],
   "source": [
    "def forward(words,word_to_index, prior, A, B,num_states):\n",
    "    nt = len(words)\n",
    "    alpha = np.zeros( (num_states, nt) )    # alpha table from forward propagation\n",
    "    pt = np.zeros( (num_states, nt) )\n",
    "    \n",
    "    for i in range(num_states):\n",
    "        word = words[0]\n",
    "        alpha[i,0] = np.log( prior[i]*B[i, word_to_index[word]] )\n",
    "        pt[i,0] = i+1\n",
    "        \n",
    "    for t in range(1,nt):\n",
    "        word = words[t]\n",
    "    \n",
    "        for j in range(num_states):\n",
    "            lw = np.log( B[j, word_to_index[word]] ) + \\\n",
    "            np.log( A[:, j].reshape((num_states, -1)) ) + \\\n",
    "            alpha[:,t-1].reshape( (num_states,-1))\n",
    "        \n",
    "            alpha[j,t] = max(lw)\n",
    "            pt[j,t] = np.argmax(lw) + 1\n",
    "            \n",
    "    return alpha, pt\n",
    "    "
   ]
  },
  {
   "cell_type": "code",
   "execution_count": 74,
   "metadata": {},
   "outputs": [],
   "source": [
    "def predict(alpha,pt, index_to_tag):\n",
    "    predicted_tag = []\n",
    "    index = np.argmax( alpha[:,-1] )\n",
    "    predicted_tag.append( index_to_tag[index + 1] )\n",
    "    \n",
    "    for t in range( len(alpha[0]) - 1, 0, -1):\n",
    "        index = pt[int(index) - 1, t]\n",
    "        predicted_tag.append( index_to_tag[index])\n",
    "    \n",
    "    return list(reversed(predicted_tag) )   \n",
    "    "
   ]
  },
  {
   "cell_type": "code",
   "execution_count": null,
   "metadata": {},
   "outputs": [],
   "source": []
  }
 ],
 "metadata": {
  "kernelspec": {
   "display_name": "Python 3",
   "language": "python",
   "name": "python3"
  },
  "language_info": {
   "codemirror_mode": {
    "name": "ipython",
    "version": 3
   },
   "file_extension": ".py",
   "mimetype": "text/x-python",
   "name": "python",
   "nbconvert_exporter": "python",
   "pygments_lexer": "ipython3",
   "version": "3.6.8"
  }
 },
 "nbformat": 4,
 "nbformat_minor": 2
}
