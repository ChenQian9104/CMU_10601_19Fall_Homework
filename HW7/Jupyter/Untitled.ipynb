{
 "cells": [
  {
   "cell_type": "code",
   "execution_count": 5,
   "metadata": {},
   "outputs": [],
   "source": [
    "import numpy as np"
   ]
  },
  {
   "cell_type": "code",
   "execution_count": 6,
   "metadata": {},
   "outputs": [],
   "source": [
    "content = []\n",
    "with open('trainwords.txt') as f:\n",
    "    for line in f.readlines():\n",
    "        content.append(line.strip('\\n'))"
   ]
  },
  {
   "cell_type": "code",
   "execution_count": 7,
   "metadata": {},
   "outputs": [],
   "source": [
    "index = 0\n",
    "index_to_tag = {}\n",
    "with open('index_to_tag.txt') as f:\n",
    "    for line in f.readlines():\n",
    "        index += 1 \n",
    "        tag = line.strip('\\n')\n",
    "        index_to_tag[tag] = index"
   ]
  },
  {
   "cell_type": "code",
   "execution_count": 8,
   "metadata": {},
   "outputs": [],
   "source": [
    "index = 0\n",
    "index_to_word = {}\n",
    "with open('index_to_word.txt') as f:\n",
    "    for line in f.readlines():\n",
    "        index += 1\n",
    "        word = line.strip('\\n')\n",
    "        index_to_word[word] = index"
   ]
  },
  {
   "cell_type": "code",
   "execution_count": 9,
   "metadata": {},
   "outputs": [],
   "source": [
    "num_states = len(index_to_tag)\n",
    "num_words = len(index_to_word)"
   ]
  },
  {
   "cell_type": "code",
   "execution_count": 10,
   "metadata": {},
   "outputs": [],
   "source": [
    "prior = np.ones( (num_states, 1) )\n",
    "prob_emit = np.ones( (num_states, num_words ) )\n",
    "prob_trans = np.ones( (num_states, num_states ) )"
   ]
  },
  {
   "cell_type": "code",
   "execution_count": 11,
   "metadata": {},
   "outputs": [],
   "source": [
    "for line in content:\n",
    "    words, tags = [], []\n",
    "    \n",
    "    for word_to_tag in line.split(' '):\n",
    "        word, tag = word_to_tag.split('_')\n",
    "        words.append(word)\n",
    "        tags.append(tag)   \n",
    "    prior[ index_to_tag[ tags[0] ] - 1 ] += 1 \n",
    "    \n",
    "    for i in range(0, len(tags)- 1 ):\n",
    "        state1 = index_to_tag[ tags[i] ]\n",
    "        state2 = index_to_tag[ tags[i+1] ]\n",
    "        prob_trans[state1 - 1][state2 - 1] += 1 \n",
    "        \n",
    "    for i in range( len(words) ):\n",
    "        state = index_to_tag[ tags[i] ]\n",
    "        word = index_to_word[ words[i] ]\n",
    "        prob_emit[state - 1][word-1] += 1 "
   ]
  },
  {
   "cell_type": "code",
   "execution_count": 12,
   "metadata": {},
   "outputs": [],
   "source": [
    "prior /= np.sum(prior)"
   ]
  },
  {
   "cell_type": "code",
   "execution_count": 13,
   "metadata": {},
   "outputs": [],
   "source": [
    "count = np.sum(prob_trans, axis = 1)\n",
    "count = count.reshape( num_states, -1 )\n",
    "prob_trans /= count"
   ]
  },
  {
   "cell_type": "code",
   "execution_count": 14,
   "metadata": {},
   "outputs": [],
   "source": [
    "count = np.sum(prob_emit, axis = 1)\n",
    "count = count.reshape( num_states, -1 )\n",
    "prob_emit /= count"
   ]
  },
  {
   "cell_type": "code",
   "execution_count": 15,
   "metadata": {},
   "outputs": [
    {
     "data": {
      "text/plain": [
       "array([[4.99115740e-02, 6.55007533e-05, 6.55007533e-05, ...,\n",
       "        6.55007533e-05, 6.55007533e-05, 6.55007533e-05],\n",
       "       [3.71811500e-02, 8.64677907e-05, 8.64677907e-05, ...,\n",
       "        8.64677907e-05, 8.64677907e-05, 8.64677907e-05],\n",
       "       [7.82115172e-02, 6.92137320e-05, 6.92137320e-05, ...,\n",
       "        6.92137320e-05, 6.92137320e-05, 6.92137320e-05],\n",
       "       ...,\n",
       "       [6.06034993e-02, 8.45237089e-05, 8.45237089e-05, ...,\n",
       "        8.45237089e-05, 8.45237089e-05, 8.45237089e-05],\n",
       "       [1.46108258e-01, 7.90201501e-05, 7.90201501e-05, ...,\n",
       "        7.90201501e-05, 7.90201501e-05, 7.90201501e-05],\n",
       "       [7.10784727e-02, 1.22618947e-02, 2.04271123e-03, ...,\n",
       "        7.87822515e-05, 5.62730368e-05, 2.81365184e-05]])"
      ]
     },
     "execution_count": 15,
     "metadata": {},
     "output_type": "execute_result"
    }
   ],
   "source": [
    "prob_emit"
   ]
  },
  {
   "cell_type": "code",
   "execution_count": 17,
   "metadata": {},
   "outputs": [
    {
     "name": "stdout",
     "output_type": "stream",
     "text": [
      "0.11259786476868328\n",
      "0.035800711743772244\n",
      "0.17480427046263344\n",
      "0.09608540925266904\n",
      "7.117437722419929e-05\n",
      "7.117437722419929e-05\n",
      "7.117437722419929e-05\n",
      "7.117437722419929e-05\n",
      "0.5804270462633452\n"
     ]
    }
   ],
   "source": [
    "for num in prior:\n",
    "    print(num[0])"
   ]
  },
  {
   "cell_type": "code",
   "execution_count": null,
   "metadata": {},
   "outputs": [],
   "source": []
  }
 ],
 "metadata": {
  "kernelspec": {
   "display_name": "Python 3",
   "language": "python",
   "name": "python3"
  },
  "language_info": {
   "codemirror_mode": {
    "name": "ipython",
    "version": 3
   },
   "file_extension": ".py",
   "mimetype": "text/x-python",
   "name": "python",
   "nbconvert_exporter": "python",
   "pygments_lexer": "ipython3",
   "version": "3.6.8"
  }
 },
 "nbformat": 4,
 "nbformat_minor": 2
}
