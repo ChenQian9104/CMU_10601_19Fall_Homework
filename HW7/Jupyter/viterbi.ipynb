{
 "cells": [
  {
   "cell_type": "code",
   "execution_count": 65,
   "metadata": {},
   "outputs": [],
   "source": [
    "import sys \n",
    "import numpy as np \n",
    "\n",
    "def load_index(filename):\n",
    "\tindex = 0\n",
    "\tword_to_index, index_to_word = {}, {}\n",
    "\n",
    "\twith open(filename) as f:\n",
    "\t\tfor line in f.readlines():\n",
    "\t\t\tindex += 1 \n",
    "\t\t\tword = line.strip('\\n')\n",
    "\t\t\tword_to_index[word] = index \n",
    "\t\t\tindex_to_word[index] = word \n",
    "\treturn word_to_index, index_to_word\n",
    "\n",
    "def load_hmm_prob(filename):\n",
    "\thmm_prob = []\n",
    "\twith open(filename) as f:\n",
    "\t\tlines = f.readlines()\n",
    "\n",
    "\tfor line in lines:\n",
    "\t\tline = line.strip(' \\n')\n",
    "\t\tnums = line.split(' ')\n",
    "\t\thmm_prob.append([ float(num) for num in nums] )\n",
    "\treturn np.array(hmm_prob)\n",
    "\n",
    "def load_hmm_prior(filename,num_states):\n",
    "\tprior = []\n",
    "\twith open(filename) as f:\n",
    "\t\tfor _ in range(num_states):\n",
    "\t\t\tline = f.readline()\n",
    "\t\t\tnum = line.strip('\\n')\n",
    "\t\t\tprior.append( float(num) )\n",
    "\tprior = np.array(prior).reshape((num_states, -1) )\n",
    "\treturn prior\n",
    "\n",
    "def word_tag_separation( line ):\n",
    "\tword_to_tag = line.split(' ')\n",
    "\twords,tags = [], []\n",
    "\tfor combination in word_to_tag:\n",
    "\t\tword, tag = combination.split('_')\n",
    "\t\twords.append(word)\n",
    "\t\ttags.append(tag)\n",
    "\treturn words,tags\n",
    "\n",
    "\n",
    "def forward(words, word_to_index, prior, A, B, num_states):\n",
    "\tnt = len(words)\n",
    "\talpha = np.zeros( (num_states, nt) ) # alpha table for forward propagation\n",
    "\tpt = np.zeros( (num_states, nt) )\n",
    "\n",
    "\t# Intialize the first column of alpha\n",
    "\tword = words[0]\n",
    "\tfor i in range(num_states):\n",
    "\t\talpha[i][0] = np.log( prior[i] ) + np.log( B[i][ word_to_index[word] - 1] )\n",
    "\t\tpt[i][0] = i + 1 \n",
    "\n",
    "\t# moving forward\n",
    "\tfor t in range(1,nt):\n",
    "\t\tword = words[t]\n",
    "\n",
    "\t\tfor j in range(num_states):\n",
    "\t\t\tlw = []\n",
    "\t\t\tfor k in range(num_states):\n",
    "\t\t\t\tlog_likelihood = np.log( B[j][word_to_index[word] - 1 ]) + np.log( A[k][j] ) + alpha[k][t-1]\n",
    "\t\t\t\tlw.append( log_likelihood)\n",
    "\t\t\talpha[j][t] = max(lw)\n",
    "\t\t\tpt[j][t] = lw.index( max(lw) ) + 1 \n",
    "\n",
    "\treturn alpha, pt \n",
    "\n",
    "def predict(alpha, pt, index_to_tag):\n",
    "\n",
    "\tpredicted_tag = []\n",
    "\tindex = np.argmax( alpha[:,-1] )\n",
    "\tpredicted_tag.append( index_to_tag[index + 1] )\n",
    "\n",
    "\tfor t in range( len(alpha[0]) - 1,  0, -1 ):\n",
    "\t\tindex = pt[ int(index), t ]\n",
    "\t\tpredicted_tag.append( index_to_tag[index] )\n",
    "\n",
    "\treturn list( reversed( predicted_tag )  )\n"
   ]
  },
  {
   "cell_type": "code",
   "execution_count": 64,
   "metadata": {},
   "outputs": [
    {
     "data": {
      "text/plain": [
       "{1: 'B-LOC',\n",
       " 2: 'B-MISC',\n",
       " 3: 'B-ORG',\n",
       " 4: 'B-PER',\n",
       " 5: 'I-LOC',\n",
       " 6: 'I-MISC',\n",
       " 7: 'I-ORG',\n",
       " 8: 'I-PER',\n",
       " 9: 'O'}"
      ]
     },
     "execution_count": 64,
     "metadata": {},
     "output_type": "execute_result"
    }
   ],
   "source": [
    "index_to_tag"
   ]
  },
  {
   "cell_type": "code",
   "execution_count": 66,
   "metadata": {},
   "outputs": [
    {
     "data": {
      "text/plain": [
       "array([[ -7.27408666, -23.56953239],\n",
       "       [-12.68552608, -22.15684212],\n",
       "       [-11.32239966, -23.31372406],\n",
       "       [-11.93995563, -25.0375987 ],\n",
       "       [-18.68642544, -18.3204586 ],\n",
       "       [-18.68620999, -23.20386212],\n",
       "       [-18.92885616, -21.61909783],\n",
       "       [-18.99618535, -21.80919135],\n",
       "       [-12.63187131, -17.22846552]])"
      ]
     },
     "execution_count": 66,
     "metadata": {},
     "output_type": "execute_result"
    }
   ],
   "source": [
    "alpha"
   ]
  },
  {
   "cell_type": "code",
   "execution_count": 53,
   "metadata": {},
   "outputs": [],
   "source": [
    "if __name__ == \"__main__\":\n",
    "\n",
    "\ttest_input = 'testwords.txt'\n",
    "\tindex_to_word_file = 'index_to_word.txt'\n",
    "\tindex_to_tag_file = 'index_to_tag.txt'\n",
    "\n",
    "\thmmprior = 'hmmprior.txt'\n",
    "\thmmemit = 'hmmemit.txt'\n",
    "\thmmtrans = 'hmmtrans.txt'\n",
    "\n",
    "\tpredicted_file = 'predicted.txt'\n",
    "\tmetric_file = 'metrics.txt'\n",
    "\n",
    "\n",
    "\tcontent = []\n",
    "\twith open( test_input ) as f:\n",
    "\t\tfor line in f.readlines():\n",
    "\t\t\tcontent.append( line.strip('\\n'))\n",
    "\n",
    "\tword_to_index, index_to_word = load_index( index_to_word_file )\n",
    "\ttag_to_index, index_to_tag = load_index( index_to_tag_file )\n",
    "\n",
    "\tnum_states, num_words = len(index_to_tag), len(index_to_word)\n",
    "\n",
    "\tprior = load_hmm_prior(hmmprior,num_states)\n",
    "\tA = load_hmm_prob(hmmtrans)\n",
    "\tB = load_hmm_prob(hmmemit)"
   ]
  },
  {
   "cell_type": "code",
   "execution_count": 67,
   "metadata": {},
   "outputs": [
    {
     "data": {
      "text/plain": [
       "'LONDON_B-LOC 1996-08-30_O'"
      ]
     },
     "execution_count": 67,
     "metadata": {},
     "output_type": "execute_result"
    }
   ],
   "source": [
    "line= content[1]\n",
    "line"
   ]
  },
  {
   "cell_type": "code",
   "execution_count": 71,
   "metadata": {},
   "outputs": [
    {
     "data": {
      "text/plain": [
       "array([[1., 1.],\n",
       "       [2., 1.],\n",
       "       [3., 1.],\n",
       "       [4., 1.],\n",
       "       [5., 1.],\n",
       "       [6., 2.],\n",
       "       [7., 3.],\n",
       "       [8., 4.],\n",
       "       [9., 1.]])"
      ]
     },
     "execution_count": 71,
     "metadata": {},
     "output_type": "execute_result"
    }
   ],
   "source": [
    "pt"
   ]
  },
  {
   "cell_type": "code",
   "execution_count": 70,
   "metadata": {},
   "outputs": [
    {
     "data": {
      "text/plain": [
       "array([[ -7.27408666, -23.56953239],\n",
       "       [-12.68552608, -22.15684212],\n",
       "       [-11.32239966, -23.31372406],\n",
       "       [-11.93995563, -25.0375987 ],\n",
       "       [-18.68642544, -18.3204586 ],\n",
       "       [-18.68620999, -23.20386212],\n",
       "       [-18.92885616, -21.61909783],\n",
       "       [-18.99618535, -21.80919135],\n",
       "       [-12.63187131, -17.22846552]])"
      ]
     },
     "execution_count": 70,
     "metadata": {},
     "output_type": "execute_result"
    }
   ],
   "source": [
    "alpha"
   ]
  },
  {
   "cell_type": "code",
   "execution_count": 69,
   "metadata": {},
   "outputs": [],
   "source": [
    "line = content[1]\n",
    "words, tags = word_tag_separation(line)\n",
    "alpha, pt = forward(words, word_to_index, prior, A, B, num_states )\n",
    "predicted_tag = predict(alpha, pt, index_to_tag)"
   ]
  },
  {
   "cell_type": "code",
   "execution_count": 60,
   "metadata": {},
   "outputs": [
    {
     "data": {
      "text/plain": [
       "8"
      ]
     },
     "execution_count": 60,
     "metadata": {},
     "output_type": "execute_result"
    }
   ],
   "source": [
    "np.argmax( alpha[:,-1] )"
   ]
  },
  {
   "cell_type": "code",
   "execution_count": 72,
   "metadata": {},
   "outputs": [
    {
     "data": {
      "text/plain": [
       "['B-LOC', 'O']"
      ]
     },
     "execution_count": 72,
     "metadata": {},
     "output_type": "execute_result"
    }
   ],
   "source": [
    "predicted_tag"
   ]
  },
  {
   "cell_type": "code",
   "execution_count": null,
   "metadata": {},
   "outputs": [],
   "source": [
    "\tpredicted_res = []\n",
    "\tcount, error = 0, 0\n",
    "\tfor line in content:\n",
    "\t\twords, tags = word_tag_separation(line)\n",
    "\t\talpha, pt = forward(words, word_to_index, prior, A, B, num_states )\n",
    "\t\tpredicted_tag = predict(alpha, pt, index_to_tag)\n",
    "\n",
    "\t\tcount += len(tags)\n",
    "\n",
    "\t\tfor i in range( len(tags) ):\n",
    "\t\t\tif tags[i] != predicted_tag[i]:\n",
    "\t\t\t\terror += 1 \n",
    "\n",
    "\t\tnew_line = []\n",
    "\t\tfor i in range(len(words) ):\n",
    "\t\t\tnew_line.append( \"_\".join([words[i], predicted_tag[i] ] ) )\n",
    "\t\tpredicted_res.append( \" \".join(new_line))\n",
    "\n",
    "\twith open(predicted_file,'w') as f:\n",
    "\t\tfor line in predicted_res:\n",
    "\t\t\tf.write( line + '\\n')\n",
    "\n",
    "\taccuracy = 1 - error/count \n",
    "\twith open(metric_file, 'w') as f:\n",
    "\t\tf.write(\"Accuracy: \" + str(accuracy) )\n",
    "\n",
    "\n",
    "\n",
    "\n"
   ]
  }
 ],
 "metadata": {
  "kernelspec": {
   "display_name": "Python 3",
   "language": "python",
   "name": "python3"
  },
  "language_info": {
   "codemirror_mode": {
    "name": "ipython",
    "version": 3
   },
   "file_extension": ".py",
   "mimetype": "text/x-python",
   "name": "python",
   "nbconvert_exporter": "python",
   "pygments_lexer": "ipython3",
   "version": "3.6.8"
  }
 },
 "nbformat": 4,
 "nbformat_minor": 2
}
