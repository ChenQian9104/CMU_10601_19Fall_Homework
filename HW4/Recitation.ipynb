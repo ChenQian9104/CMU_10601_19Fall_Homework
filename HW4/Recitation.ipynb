{
 "cells": [
  {
   "cell_type": "markdown",
   "metadata": {},
   "source": [
    "# 1. A Naive Representation"
   ]
  },
  {
   "cell_type": "code",
   "execution_count": 4,
   "metadata": {},
   "outputs": [],
   "source": [
    "X = [1,0,2,0,1]"
   ]
  },
  {
   "cell_type": "code",
   "execution_count": 5,
   "metadata": {},
   "outputs": [],
   "source": [
    "def dot(X,W):\n",
    "    product = 0.0\n",
    "    for x_i,w_i in zip(X,W):\n",
    "        product += x_i*w_i\n",
    "    return product"
   ]
  },
  {
   "cell_type": "code",
   "execution_count": 6,
   "metadata": {},
   "outputs": [
    {
     "name": "stdout",
     "output_type": "stream",
     "text": [
      "CPU times: user 8 µs, sys: 1 µs, total: 9 µs\n",
      "Wall time: 13.1 µs\n"
     ]
    },
    {
     "data": {
      "text/plain": [
       "8.0"
      ]
     },
     "execution_count": 6,
     "metadata": {},
     "output_type": "execute_result"
    }
   ],
   "source": [
    "# Now let's time the naive implementation of dot\n",
    "W = [0,1,2,3,4]\n",
    "%time dot(X,W)"
   ]
  },
  {
   "cell_type": "markdown",
   "metadata": {},
   "source": [
    "# 2. Take Advantage out of nothing"
   ]
  },
  {
   "cell_type": "code",
   "execution_count": 14,
   "metadata": {},
   "outputs": [],
   "source": [
    "sparse_X = {0:1, 2:2,4:1}"
   ]
  },
  {
   "cell_type": "code",
   "execution_count": 15,
   "metadata": {},
   "outputs": [],
   "source": [
    "# Redefine W\n",
    "W = [0,1,2,3,4]\n",
    "W = W +[2]*1000"
   ]
  },
  {
   "cell_type": "code",
   "execution_count": 16,
   "metadata": {},
   "outputs": [],
   "source": [
    "def sparse_dot(X,W):\n",
    "    product = 0.0\n",
    "    for key in X.keys():\n",
    "        product += X[key]*W[key]\n",
    "    return product"
   ]
  },
  {
   "cell_type": "code",
   "execution_count": 17,
   "metadata": {},
   "outputs": [
    {
     "name": "stdout",
     "output_type": "stream",
     "text": [
      "CPU times: user 8 µs, sys: 0 ns, total: 8 µs\n",
      "Wall time: 12.9 µs\n"
     ]
    },
    {
     "data": {
      "text/plain": [
       "8.0"
      ]
     },
     "execution_count": 17,
     "metadata": {},
     "output_type": "execute_result"
    }
   ],
   "source": [
    "%time sparse_dot(sparse_X,W)"
   ]
  },
  {
   "cell_type": "markdown",
   "metadata": {},
   "source": [
    "# 3. Example: Sparse Perceptron"
   ]
  },
  {
   "cell_type": "code",
   "execution_count": 18,
   "metadata": {},
   "outputs": [],
   "source": [
    "# Let's define our dataset with 10 features\n",
    "num_features = 10000\n",
    "\n",
    "# Naive (dense) representation\n",
    "dense_X = [\n",
    "    [3,0,0,0,0,4,0,0,0,0] + [0]*(num_features - 10),\n",
    "    [0,0,0,1,0,0,0,0,4,0] + [0]*(num_features - 10),\n",
    "    [0,3,0,0,0,0,0,0,0,1] + [0]*(num_features - 10)\n",
    "]\n",
    "\n",
    "# Sparse representation\n",
    "sparse_X = [{0:3,5:4},{3:1,8:4},{1:3,9:1}]\n",
    "\n",
    "#labels\n",
    "Y = [0,1,1]"
   ]
  },
  {
   "cell_type": "code",
   "execution_count": 20,
   "metadata": {},
   "outputs": [],
   "source": [
    "def sparse_add(X,W):\n",
    "    for i, x_i in X.items():\n",
    "        W[i] += x_i\n",
    "    return W\n",
    "    \n",
    "def sparse_sub(X,W):\n",
    "    for i, x_i in X.items():\n",
    "        W[i] -= x_i\n",
    "    return W"
   ]
  },
  {
   "cell_type": "code",
   "execution_count": null,
   "metadata": {},
   "outputs": [],
   "source": [
    "import numpy as np\n",
    "\n",
    "def perceptron_update(X,Y,W):\n",
    "    for x,y in zip(X,Y):\n",
    "        activation = sparse_dot(x,)"
   ]
  }
 ],
 "metadata": {
  "kernelspec": {
   "display_name": "Python 3",
   "language": "python",
   "name": "python3"
  },
  "language_info": {
   "codemirror_mode": {
    "name": "ipython",
    "version": 3
   },
   "file_extension": ".py",
   "mimetype": "text/x-python",
   "name": "python",
   "nbconvert_exporter": "python",
   "pygments_lexer": "ipython3",
   "version": "3.6.8"
  }
 },
 "nbformat": 4,
 "nbformat_minor": 2
}
