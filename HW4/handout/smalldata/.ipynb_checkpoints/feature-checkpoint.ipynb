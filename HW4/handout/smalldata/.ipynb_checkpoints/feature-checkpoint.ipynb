{
 "cells": [
  {
   "cell_type": "code",
   "execution_count": 35,
   "metadata": {},
   "outputs": [],
   "source": [
    "import csv\n",
    "import numpy as np\n",
    "\n",
    "word_dict = dict()\n",
    "with open('dict.txt','r') as f1:\n",
    "    for line in f1.readlines():\n",
    "        [word, num_str] = line.split()\n",
    "        word_dict[word] = int( num_str )\n",
    "\n",
    "\n",
    "with open('smalltrain_data.tsv','r') as f2:\n",
    "    reader = csv.reader(f2,delimiter = '\\t')\n",
    "    content = list(reader)\n",
    "    \n",
    "\n",
    "    "
   ]
  },
  {
   "cell_type": "code",
   "execution_count": null,
   "metadata": {},
   "outputs": [],
   "source": []
  }
 ],
 "metadata": {
  "kernelspec": {
   "display_name": "Python 3",
   "language": "python",
   "name": "python3"
  },
  "language_info": {
   "codemirror_mode": {
    "name": "ipython",
    "version": 3
   },
   "file_extension": ".py",
   "mimetype": "text/x-python",
   "name": "python",
   "nbconvert_exporter": "python",
   "pygments_lexer": "ipython3",
   "version": "3.6.8"
  }
 },
 "nbformat": 4,
 "nbformat_minor": 2
}
