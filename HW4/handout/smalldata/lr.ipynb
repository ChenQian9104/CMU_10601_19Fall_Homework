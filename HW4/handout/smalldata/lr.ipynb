{
 "cells": [
  {
   "cell_type": "code",
   "execution_count": 201,
   "metadata": {},
   "outputs": [],
   "source": [
    "import csv\n",
    "import math\n",
    "\n",
    "with open('formatted_train.tsv','r') as f:\n",
    "    reader = csv.reader(f,delimiter = '\\t')\n",
    "    content = list(reader)"
   ]
  },
  {
   "cell_type": "code",
   "execution_count": 188,
   "metadata": {},
   "outputs": [
    {
     "data": {
      "text/plain": [
       "39176"
      ]
     },
     "execution_count": 188,
     "metadata": {},
     "output_type": "execute_result"
    }
   ],
   "source": [
    "word_dict = dict()\n",
    "with open('dict.txt','r') as f:\n",
    "    for line in f.readlines():\n",
    "        [word, num_str] = line.split()\n",
    "        word_dict[word] = int( num_str )\n",
    "\n",
    "dim = len(word_dict)\n",
    "dim"
   ]
  },
  {
   "cell_type": "code",
   "execution_count": 189,
   "metadata": {},
   "outputs": [],
   "source": [
    "# Initialize W \n",
    "W = [0]*dim + [0]    # dim + 1 for the bias term"
   ]
  },
  {
   "cell_type": "code",
   "execution_count": 202,
   "metadata": {},
   "outputs": [],
   "source": [
    "label_train = []\n",
    "feature_train = []\n",
    "\n",
    "num_feature = len(content)\n",
    "\n",
    "for line in content:\n",
    "    label_train.append( int(line[0]) )\n",
    "    comment = line[1:]\n",
    "    feature_dict = dict()\n",
    "    for ele in comment:\n",
    "        [key,val] = ele.split(':')\n",
    "        feature_dict[ int(key) ] = int(val)\n",
    "    feature_dict[ dim ] = 1        # bias term in the end\n",
    "    feature_train.append( feature_dict )\n",
    "    "
   ]
  },
  {
   "cell_type": "code",
   "execution_count": 196,
   "metadata": {},
   "outputs": [],
   "source": [
    "def sparse_dot(X,W):\n",
    "    product = 0.0\n",
    "    for key in X.keys():\n",
    "        product += X[key]*W[key]\n",
    "    return product\n",
    "\n",
    "def cal_loss_i(theta,x,y):\n",
    "    loss_i = -sparse_dot(x, theta)*float(y) + math.log(  1 + math.exp( sparse_dot(x, theta))  )\n",
    "    return loss_i\n",
    "\n",
    "def cal_loss(feature,label,W):\n",
    "    \n",
    "    num_data = len(feature)\n",
    "    loss = 0.0\n",
    "    \n",
    "    for i in range(num_data):\n",
    "        loss += cal_loss_i(W, feature[i], label[i])\n",
    "    return loss\n",
    "\n",
    "def cal_gradient(theta,x,y):\n",
    "    gradient = {}\n",
    "    exp_term = math.exp( sparse_dot(x,theta) )\n",
    "    for key in x.keys():\n",
    "        \n",
    "        gradient[key] = -x[key]*(y - exp_term/( 1 + exp_term ) )\n",
    "    return gradient   \n",
    "\n",
    "def update(W,gradient,learning_rate):\n",
    "    \n",
    "    for key in gradient.keys():\n",
    "        W[key] -= learning_rate*gradient[key]\n",
    "    return W\n",
    "\n",
    "def train(feature,label,W,num_epoch, learning_rate):\n",
    "    \n",
    "    num_data = len(feature)\n",
    "    loss = []\n",
    "    \n",
    "    for i in range(num_epoch):\n",
    "        \n",
    "        loss.append( cal_loss(feature,label,W) )\n",
    "        for x, y in zip(feature,label):\n",
    "            gradient = cal_gradient(W,x,y)\n",
    "            W = update(W,gradient,learning_rate)        \n",
    "    return loss\n",
    " \n",
    "    "
   ]
  },
  {
   "cell_type": "code",
   "execution_count": 197,
   "metadata": {},
   "outputs": [
    {
     "data": {
      "text/plain": [
       "[0.25777604938075427,\n",
       " 0.24967104290248354,\n",
       " 0.2421207642477205,\n",
       " 0.23506810908281778,\n",
       " 0.22846361676803417,\n",
       " 0.2222642355820034,\n",
       " 0.21643231824519915,\n",
       " 0.21093479956544914,\n",
       " 0.20574251910596358,\n",
       " 0.2008296600948488,\n",
       " 0.1961732820922456,\n",
       " 0.19175292973164457,\n",
       " 0.18755030353828098,\n",
       " 0.18354898167806485,\n",
       " 0.17973418370761526,\n",
       " 0.17609256913308985,\n",
       " 0.1726120649522925,\n",
       " 0.16928171743917478,\n",
       " 0.1660915642921377,\n",
       " 0.1630325239584613,\n",
       " 0.16009629950382614,\n",
       " 0.15727529484528374,\n",
       " 0.15456254153119248,\n",
       " 0.1519516345504225,\n",
       " 0.14943667589628895,\n",
       " 0.14701222481344786,\n",
       " 0.14467325382033658,\n",
       " 0.14241510973896904,\n",
       " 0.14023347907777775,\n",
       " 0.13812435720940563,\n",
       " 0.13608402086552937,\n",
       " 0.13410900353847977,\n",
       " 0.1321960734364544,\n",
       " 0.13034221368729942,\n",
       " 0.12854460452672792,\n",
       " 0.12680060724219072,\n",
       " 0.12510774967255456,\n",
       " 0.1234637130903902,\n",
       " 0.12186632031413809,\n",
       " 0.12031352491791235,\n",
       " 0.11880340142121894,\n",
       " 0.11733413635629199,\n",
       " 0.11590402012238896,\n",
       " 0.11451143954653784,\n",
       " 0.11315487108039703,\n",
       " 0.11183287456994451,\n",
       " 0.1105440875425587,\n",
       " 0.1092872199614543,\n",
       " 0.10806104940346285,\n",
       " 0.10686441662035111,\n",
       " 0.10569622144882285,\n",
       " 0.1045554190368529,\n",
       " 0.10344101635845879,\n",
       " 0.10235206899130797,\n",
       " 0.10128767813388419,\n",
       " 0.10024698784195549,\n",
       " 0.09922918246543286,\n",
       " 0.09823348426871344,\n",
       " 0.09725915121940046,\n",
       " 0.0963054749315977]"
      ]
     },
     "execution_count": 197,
     "metadata": {},
     "output_type": "execute_result"
    }
   ],
   "source": [
    "train(feature_train,label_train,W, 60, 0.1)"
   ]
  },
  {
   "cell_type": "code",
   "execution_count": 193,
   "metadata": {},
   "outputs": [],
   "source": [
    "with open('formatted_test.tsv','r') as f:\n",
    "    reader = csv.reader(f,delimiter = '\\t')\n",
    "    content = list(reader)\n",
    "\n",
    "label_test = []\n",
    "feature_test = []\n",
    "\n",
    "num_feature = len(content)\n",
    "\n",
    "for line in content:\n",
    "    label_test.append( int(line[0]) )\n",
    "    comment = line[1:]\n",
    "    feature_dict = dict()\n",
    "    for ele in comment:\n",
    "        [key,val] = ele.split(':')\n",
    "        feature_dict[ int(key) ] = int(val)\n",
    "    feature_dict[ dim ] = 1        # bias term in the end\n",
    "    feature_test.append( feature_dict )    "
   ]
  },
  {
   "cell_type": "code",
   "execution_count": 184,
   "metadata": {},
   "outputs": [],
   "source": [
    "def predict(feature,label,W):\n",
    "    num_data = len(feature)\n",
    "    pred_label = []\n",
    "    error_num = 0\n",
    "    \n",
    "    for i in range(num_data):\n",
    "        x = feature[i]\n",
    "        #y = 1/( 1 + math.exp(-sparse_dot(x,W)) )\n",
    "        y = math.exp( sparse_dot(x,W) )/( 1 + math.exp( sparse_dot(x,W) ) )\n",
    "        if y >= 0.5:\n",
    "            pred_label.append(1)\n",
    "        else:\n",
    "            pred_label.append(0)\n",
    "            \n",
    "    for y1,y2 in zip(pred_label,label):\n",
    "        if y1 != y2:\n",
    "            error_num += 1\n",
    "    \n",
    "    accuracy = error_num/num_data\n",
    "    print(\"accu:\" + str(accuracy))\n",
    "\n",
    "    return pred_label\n",
    "    \n",
    "    "
   ]
  },
  {
   "cell_type": "code",
   "execution_count": 199,
   "metadata": {
    "scrolled": true
   },
   "outputs": [
    {
     "ename": "SyntaxError",
     "evalue": "invalid syntax (<ipython-input-199-05061865a1d9>, line 2)",
     "output_type": "error",
     "traceback": [
      "\u001b[0;36m  File \u001b[0;32m\"<ipython-input-199-05061865a1d9>\"\u001b[0;36m, line \u001b[0;32m2\u001b[0m\n\u001b[0;31m    a3,a4):\u001b[0m\n\u001b[0m     ^\u001b[0m\n\u001b[0;31mSyntaxError\u001b[0m\u001b[0;31m:\u001b[0m invalid syntax\n"
     ]
    }
   ],
   "source": []
  },
  {
   "cell_type": "code",
   "execution_count": null,
   "metadata": {},
   "outputs": [],
   "source": []
  }
 ],
 "metadata": {
  "kernelspec": {
   "display_name": "Python 3",
   "language": "python",
   "name": "python3"
  },
  "language_info": {
   "codemirror_mode": {
    "name": "ipython",
    "version": 3
   },
   "file_extension": ".py",
   "mimetype": "text/x-python",
   "name": "python",
   "nbconvert_exporter": "python",
   "pygments_lexer": "ipython3",
   "version": "3.6.8"
  }
 },
 "nbformat": 4,
 "nbformat_minor": 2
}
