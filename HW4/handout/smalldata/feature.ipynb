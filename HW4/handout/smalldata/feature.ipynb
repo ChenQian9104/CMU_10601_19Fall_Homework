{
 "cells": [
  {
   "cell_type": "code",
   "execution_count": 26,
   "metadata": {},
   "outputs": [],
   "source": [
    "import csv\n",
    "import numpy as np\n",
    "\n",
    "feature_flag = 1\n",
    "\n",
    "word_dict = dict()\n",
    "with open('dict.txt','r') as f1:\n",
    "    for line in f1.readlines():\n",
    "        [word, num_str] = line.split()\n",
    "        word_dict[word] = int( num_str )\n",
    "word_dict_keys = list( word_dict.keys() )\n",
    "\n",
    "with open('smalltrain_data.tsv','r') as f2:\n",
    "    reader = csv.reader(f2,delimiter = '\\t')\n",
    "    content = list(reader)\n",
    "    \n",
    "\n",
    "    "
   ]
  },
  {
   "cell_type": "code",
   "execution_count": 36,
   "metadata": {},
   "outputs": [
    {
     "data": {
      "text/plain": [
       "39176"
      ]
     },
     "execution_count": 36,
     "metadata": {},
     "output_type": "execute_result"
    }
   ],
   "source": [
    "len( word_dict )"
   ]
  },
  {
   "cell_type": "code",
   "execution_count": 50,
   "metadata": {},
   "outputs": [],
   "source": [
    "def bag_to_word(content, word_dict,feature_flag):\n",
    "    \n",
    "    t = 4\n",
    "    f = open('formatted_train.tsv','w')\n",
    "    \n",
    "    for line in content:\n",
    "        label = line[0]\n",
    "        comment = line[1].split()\n",
    "        \n",
    "        dict_cnt = {}\n",
    "        for word in comment:\n",
    "            if word in word_dict:\n",
    "                if word not in dict_cnt:\n",
    "                    dict_cnt[word] = 1\n",
    "                else:\n",
    "                    dict_cnt[word] += 1\n",
    "                \n",
    "        f.write( str(label) + '\\t' )\n",
    "        \n",
    "        feature_out = []\n",
    "        \n",
    "        for key,val in dict_cnt.items():\n",
    "            if feature_flag == 1:\n",
    "                index_to_value = str( word_dict[key] ) + ':' + str(1)\n",
    "                feature_out.append(index_to_value)\n",
    "            if feature_flag == 2:\n",
    "                if val < t:\n",
    "                    index_to_value = str( word_dict[key] ) + ':' + str(1)\n",
    "                    feature_out.append(index_to_value)\n",
    "                    \n",
    "        f.write( '\\t'.join(feature_out) + '\\n' )\n",
    "                         \n",
    "    f.close()\n",
    "        \n",
    "    \n",
    "        \n",
    "            \n",
    "            \n",
    "            "
   ]
  },
  {
   "cell_type": "code",
   "execution_count": 51,
   "metadata": {},
   "outputs": [],
   "source": [
    "bag_to_word(content,word_dict, feature_flag)"
   ]
  },
  {
   "cell_type": "code",
   "execution_count": 17,
   "metadata": {},
   "outputs": [],
   "source": [
    "def bag_to_word(content, word_dict_keys,word_dict, feature_flag):\n",
    "    \n",
    "    t = 4\n",
    "    f = open('formatted_train.tsv','w')\n",
    "    for line in content:\n",
    "        word_in_comment_cnt = dict( (key,0) for key in word_dict_keys )\n",
    "        label = line[0]\n",
    "        comment = line[1].split()\n",
    "        \n",
    "        for word in comment:\n",
    "            if word in word_dict_keys:\n",
    "                word_in_comment_cnt[word] += 1\n",
    "                \n",
    "        f.write( str(label) + '\\t' )\n",
    "        \n",
    "        if feature_flag == 1:\n",
    "            \n",
    "            for key in word_dict_keys:\n",
    "                if word_in_comment_cnt[key] > 0:\n",
    "                    f.write( str(word_dict[key])+ ':' +'1' +'\\t')\n",
    "            f.write('\\n')\n",
    "            \n",
    "        elif feature_flage == 2:\n",
    "            for key in word_dict_keys:\n",
    "                if word_in_comment_cnt[key] > 0 and word_in_comment_cnt[key] < t:\n",
    "                    f.write( str(word_dict[key]) + ':' +'1' +'\\t')\n",
    "            f.write('\\n')   \n",
    "    \n",
    "    f.close()"
   ]
  },
  {
   "cell_type": "code",
   "execution_count": 39,
   "metadata": {},
   "outputs": [
    {
     "ename": "KeyError",
     "evalue": "\"what's\"",
     "output_type": "error",
     "traceback": [
      "\u001b[0;31m---------------------------------------------------------------------------\u001b[0m",
      "\u001b[0;31mKeyError\u001b[0m                                  Traceback (most recent call last)",
      "\u001b[0;32m<ipython-input-39-fc09d1f46cdf>\u001b[0m in \u001b[0;36m<module>\u001b[0;34m\u001b[0m\n\u001b[0;32m----> 1\u001b[0;31m \u001b[0mbag_to_word\u001b[0m\u001b[0;34m(\u001b[0m\u001b[0mcontent\u001b[0m\u001b[0;34m,\u001b[0m\u001b[0mword_dict\u001b[0m\u001b[0;34m,\u001b[0m \u001b[0mfeature_flag\u001b[0m\u001b[0;34m)\u001b[0m\u001b[0;34m\u001b[0m\u001b[0;34m\u001b[0m\u001b[0m\n\u001b[0m",
      "\u001b[0;32m<ipython-input-37-e8672dc29639>\u001b[0m in \u001b[0;36mbag_to_word\u001b[0;34m(content, word_dict, feature_flag)\u001b[0m\n\u001b[1;32m     10\u001b[0m         \u001b[0;32mfor\u001b[0m \u001b[0mword\u001b[0m \u001b[0;32min\u001b[0m \u001b[0mcomment\u001b[0m\u001b[0;34m:\u001b[0m\u001b[0;34m\u001b[0m\u001b[0;34m\u001b[0m\u001b[0m\n\u001b[1;32m     11\u001b[0m             \u001b[0;32mif\u001b[0m \u001b[0mword\u001b[0m \u001b[0;32min\u001b[0m \u001b[0mword_dict\u001b[0m\u001b[0;34m:\u001b[0m\u001b[0;34m\u001b[0m\u001b[0;34m\u001b[0m\u001b[0m\n\u001b[0;32m---> 12\u001b[0;31m                 \u001b[0mdict_cnt\u001b[0m\u001b[0;34m[\u001b[0m\u001b[0mword\u001b[0m\u001b[0;34m]\u001b[0m \u001b[0;34m+=\u001b[0m \u001b[0;36m1\u001b[0m\u001b[0;34m\u001b[0m\u001b[0;34m\u001b[0m\u001b[0m\n\u001b[0m\u001b[1;32m     13\u001b[0m \u001b[0;34m\u001b[0m\u001b[0m\n\u001b[1;32m     14\u001b[0m         \u001b[0mf\u001b[0m\u001b[0;34m.\u001b[0m\u001b[0mwrite\u001b[0m\u001b[0;34m(\u001b[0m \u001b[0mstr\u001b[0m\u001b[0;34m(\u001b[0m\u001b[0mlabel\u001b[0m\u001b[0;34m)\u001b[0m \u001b[0;34m+\u001b[0m \u001b[0;34m'\\t'\u001b[0m \u001b[0;34m)\u001b[0m\u001b[0;34m\u001b[0m\u001b[0;34m\u001b[0m\u001b[0m\n",
      "\u001b[0;31mKeyError\u001b[0m: \"what's\""
     ]
    }
   ],
   "source": [
    "bag_to_word(content,word_dict, feature_flag)"
   ]
  },
  {
   "cell_type": "code",
   "execution_count": null,
   "metadata": {},
   "outputs": [],
   "source": []
  }
 ],
 "metadata": {
  "kernelspec": {
   "display_name": "Python 3",
   "language": "python",
   "name": "python3"
  },
  "language_info": {
   "codemirror_mode": {
    "name": "ipython",
    "version": 3
   },
   "file_extension": ".py",
   "mimetype": "text/x-python",
   "name": "python",
   "nbconvert_exporter": "python",
   "pygments_lexer": "ipython3",
   "version": "3.6.8"
  }
 },
 "nbformat": 4,
 "nbformat_minor": 2
}
