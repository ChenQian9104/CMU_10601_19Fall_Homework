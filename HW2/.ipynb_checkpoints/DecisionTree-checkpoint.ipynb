{
 "cells": [
  {
   "cell_type": "code",
   "execution_count": 2,
   "metadata": {},
   "outputs": [],
   "source": [
    "import sys\n",
    "import csv\n",
    "import math\n",
    "\n",
    "with open('education_train.tsv','r') as f1:\n",
    "    reader = csv.reader(f1,delimiter = '\\t')\n",
    "    input_data = list(reader)"
   ]
  },
  {
   "cell_type": "code",
   "execution_count": 6,
   "metadata": {},
   "outputs": [
    {
     "data": {
      "text/plain": [
       "'M5'"
      ]
     },
     "execution_count": 6,
     "metadata": {},
     "output_type": "execute_result"
    }
   ],
   "source": [
    "input_data[0][4]"
   ]
  },
  {
   "cell_type": "code",
   "execution_count": 4,
   "metadata": {},
   "outputs": [
    {
     "data": {
      "text/plain": [
       "['M1', 'M2', 'M3', 'M4', 'M5', 'P1', 'P2', 'P3', 'P4', 'F', 'grade']"
      ]
     },
     "execution_count": 4,
     "metadata": {},
     "output_type": "execute_result"
    }
   ],
   "source": [
    "input_data[0]"
   ]
  },
  {
   "cell_type": "code",
   "execution_count": 23,
   "metadata": {},
   "outputs": [],
   "source": [
    "feature = []\n",
    "for k in range( 0, len(input_data[0]) ):\n",
    "    feature_i= []\n",
    "    for i in range( 1, len(input_data)):\n",
    "        feature_i.append( input_data[i][k])\n",
    "    feature.append(feature_i)"
   ]
  },
  {
   "cell_type": "code",
   "execution_count": 24,
   "metadata": {},
   "outputs": [
    {
     "data": {
      "text/plain": [
       "11"
      ]
     },
     "execution_count": 24,
     "metadata": {},
     "output_type": "execute_result"
    }
   ],
   "source": [
    "len(feature)"
   ]
  },
  {
   "cell_type": "code",
   "execution_count": 18,
   "metadata": {},
   "outputs": [],
   "source": [
    "label = []\n",
    "for i in range( 1, len(input_data)):\n",
    "    label.append( input_data[i][k])"
   ]
  },
  {
   "cell_type": "code",
   "execution_count": 34,
   "metadata": {},
   "outputs": [],
   "source": [
    "def helper_entropy(x, y):\n",
    "    \n",
    "    [p1,p2] = helper_prob(y)\n",
    "    Hy = -p1*math.log2(p1) - p2*math.log2(p2)\n",
    "    \n",
    "    label_x = list( set(x) )\n",
    "    label_y = list( set(y) )\n",
    "    \n",
    "    num1, num2 = 0, 0\n",
    "    num3, num4 = 0, 0\n",
    "    num5, num6 = 0, 0\n",
    "    for i in range( len(x) ):\n",
    "        if x[i] == label_x[0]:\n",
    "            num1 += 1\n",
    "            if y[i] == label_y[0]:\n",
    "                num3 += 1\n",
    "            else:\n",
    "                num4 += 1\n",
    "        else:\n",
    "            num2 += 1\n",
    "            if y[i] == label_y[0]:\n",
    "                num5 += 1\n",
    "            else:\n",
    "                num6 += 1  \n",
    "                \n",
    "                \n",
    "    px1, px2 = num1/len(x), num2/len(x)\n",
    "    py1x1, py2x1 = num3/num1, num4/num1\n",
    "    py1x2, py2x2 = num5/num1, num6/num1\n",
    "    \n",
    "    Hyx1 = -py1x1*math.log2(py1x1) - py2x1*math.log2(py2x1)\n",
    "    Hyx2 = -py1x2*math.log2(py1x2) - py2x2*math.log2(py2x2)\n",
    "    \n",
    "    Hyx = px1*Hyx1 + px2*Hyx2\n",
    "    Iyx = Hy - Hyx\n",
    "    return Iyx\n",
    "         \n",
    "def helper_prob(x):\n",
    "    label = list( set(x) )\n",
    "    num = len(x)\n",
    "    num1, num2 = 0,0\n",
    "    for ele in x:\n",
    "        if ele == label[0]:\n",
    "            num1 += 1\n",
    "        else:\n",
    "            num2 += 1\n",
    "    return [num1/num, num2/num]    "
   ]
  },
  {
   "cell_type": "code",
   "execution_count": 35,
   "metadata": {},
   "outputs": [
    {
     "name": "stdout",
     "output_type": "stream",
     "text": [
      "0.174120283455115\n"
     ]
    }
   ],
   "source": [
    "print( helper_entropy(feature[0],label) )"
   ]
  },
  {
   "cell_type": "code",
   "execution_count": 36,
   "metadata": {},
   "outputs": [
    {
     "ename": "ValueError",
     "evalue": "math domain error",
     "output_type": "error",
     "traceback": [
      "\u001b[0;31m---------------------------------------------------------------------------\u001b[0m",
      "\u001b[0;31mValueError\u001b[0m                                Traceback (most recent call last)",
      "\u001b[0;32m<ipython-input-36-12623e5e70b9>\u001b[0m in \u001b[0;36m<module>\u001b[0;34m\u001b[0m\n\u001b[0;32m----> 1\u001b[0;31m \u001b[0;36m0\u001b[0m\u001b[0;34m*\u001b[0m\u001b[0mmath\u001b[0m\u001b[0;34m.\u001b[0m\u001b[0mlog2\u001b[0m\u001b[0;34m(\u001b[0m\u001b[0;36m0\u001b[0m\u001b[0;34m)\u001b[0m\u001b[0;34m\u001b[0m\u001b[0;34m\u001b[0m\u001b[0m\n\u001b[0m",
      "\u001b[0;31mValueError\u001b[0m: math domain error"
     ]
    }
   ],
   "source": []
  },
  {
   "cell_type": "code",
   "execution_count": null,
   "metadata": {},
   "outputs": [],
   "source": []
  }
 ],
 "metadata": {
  "kernelspec": {
   "display_name": "Python 3",
   "language": "python",
   "name": "python3"
  },
  "language_info": {
   "codemirror_mode": {
    "name": "ipython",
    "version": 3
   },
   "file_extension": ".py",
   "mimetype": "text/x-python",
   "name": "python",
   "nbconvert_exporter": "python",
   "pygments_lexer": "ipython3",
   "version": "3.6.8"
  }
 },
 "nbformat": 4,
 "nbformat_minor": 2
}
