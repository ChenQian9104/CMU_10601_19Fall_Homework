{
 "cells": [
  {
   "cell_type": "code",
   "execution_count": 65,
   "metadata": {},
   "outputs": [],
   "source": [
    "import csv\n",
    "import sys\n",
    "import math\n",
    "\n",
    "with open('education_train.tsv') as f1:\n",
    "    reader = csv.reader(f1, delimiter ='\\t')\n",
    "    data = list(reader)\n",
    "\n",
    "    \n",
    "attr_name = data[0][0:-1]\n",
    "attr_num  = len(attr_name)\n",
    "attr_val  = data[1:][0:-1]\n",
    "\n",
    "attr_label = dict()\n",
    "for i in range(attr_num):\n",
    "    attr_label[ attr_name[i] ] = list( set(attr_val[1:][i]) )\n",
    "\n",
    "y_name = data[0][-1]\n",
    "y_val  = data[1:][-1]\n",
    "y_label = dict()\n",
    "y_label[y_name] = list( set(y_val) )"
   ]
  },
  {
   "cell_type": "code",
   "execution_count": 46,
   "metadata": {},
   "outputs": [
    {
     "data": {
      "text/plain": [
       "dict_keys(['M1', 'M2', 'M3', 'M4', 'M5', 'P1', 'P2', 'P3', 'P4', 'F'])"
      ]
     },
     "execution_count": 46,
     "metadata": {},
     "output_type": "execute_result"
    }
   ],
   "source": [
    "attr_label.keys()"
   ]
  },
  {
   "cell_type": "code",
   "execution_count": 39,
   "metadata": {},
   "outputs": [
    {
     "data": {
      "text/plain": [
       "list"
      ]
     },
     "execution_count": 39,
     "metadata": {},
     "output_type": "execute_result"
    }
   ],
   "source": [
    "x_label = atrr_label[ attr_name[1] ]\n",
    "type(x_label)"
   ]
  },
  {
   "cell_type": "code",
   "execution_count": 40,
   "metadata": {},
   "outputs": [],
   "source": [
    "def prob(x,x_label):\n",
    "    num1, num2 = 0, 0\n",
    "    for ele in x:\n",
    "        if ele == x_label[0]:\n",
    "            num1 += 1\n",
    "        else:\n",
    "            num2 += 1\n",
    "    return num1/len(x), num2/len(x)\n",
    "\n",
    "def helper_entropy(p1,p2):\n",
    "    if p1 == 0:\n",
    "        term1 = 0\n",
    "    else:\n",
    "        term1 = -p1*math.log2(p1)\n",
    "        \n",
    "    if p2 == 0:\n",
    "        term2 = 0\n",
    "    else:\n",
    "        term2 = -p2*math.log2(p2)\n",
    "        \n",
    "    return  term1 + term2\n",
    "    \n",
    "\n",
    "def helper_inf_gain(attr_val, attr_label, attr_name, y, y_label):\n",
    "    attr_num = len(attr_name)\n",
    "    py1, py2 = prob(y, y_label)\n",
    "    Hy = helper_entropy(py1, py2)\n",
    "    print(\"The entropy of y is:\" + str(Hy) )\n",
    "    inf_gain   = []\n",
    "    for i in range(attr_num):\n",
    "        x = attr_val[1:][i]\n",
    "        x_label = attr_label[ attr_name[i] ]\n",
    "       \n",
    "        num1, num2, num3, num4, num5, num6 = 0, 0, 0, 0, 0, 0\n",
    "        \n",
    "        for i in range( len(x) ):\n",
    "            if x[i] == x_label[0]:\n",
    "                num1 += 1\n",
    "                if y[i] == y_label[0]:\n",
    "                    num2 += 1\n",
    "                else:\n",
    "                    num3 += 1\n",
    "            else:\n",
    "                num4 += 1\n",
    "                if y[i] == y_label[0]:\n",
    "                    num5 += 1\n",
    "                else:\n",
    "                    num6 += 1\n",
    "        px1, px2 = num1/len(x), num4/len(x)\n",
    "        py1x1, py2x1 = num2/num1, num3/num1\n",
    "        py1x2, py2x2 = num5/num4, num6/num4  \n",
    "        \n",
    "        Hyx1 = helper_entropy(py1x1, py2x1)\n",
    "        Hyx2 = helper_entropy(py1x2, py2x2)   \n",
    "        \n",
    "        inf_gain.append( Hy - px1*Hyx1 - px2*Hyx2 )\n",
    "    return inf_gain\n",
    "        \n",
    "def attr_split( inf_gain,attr_name ):\n",
    "    index = inf_gain.index( max(inf_gain) )\n",
    "    print( attr_name[index] )\n",
    "    "
   ]
  },
  {
   "cell_type": "code",
   "execution_count": 42,
   "metadata": {},
   "outputs": [
    {
     "name": "stdout",
     "output_type": "stream",
     "text": [
      "The entropy of y is:0.9456603046006401\n",
      "M3\n"
     ]
    }
   ],
   "source": [
    "inf_gain = helper_inf_gain(attr_val, attr_label, attr_name, y_val, y_label[y_name] )\n",
    "attr_split( inf_gain, attr_name )"
   ]
  },
  {
   "cell_type": "code",
   "execution_count": 29,
   "metadata": {},
   "outputs": [
    {
     "name": "stdout",
     "output_type": "stream",
     "text": [
      "The entropy of y is:0.9456603046006401\n",
      "[0.02368671823006807, 0.02368671823006807, 0.27413103660856525, 0.0010821659130774153, 0.1051955320700464, 0.003430488546069199, 0.14976144076759756, 0.03276539733096584, 0.012509167646966857, 0.07205662510638455]\n"
     ]
    }
   ],
   "source": [
    "print(helper_inf_gain(atrr_val, atrr_label, atrr_name, y_val, y_label[y_name] )) "
   ]
  },
  {
   "cell_type": "code",
   "execution_count": 53,
   "metadata": {},
   "outputs": [
    {
     "data": {
      "text/plain": [
       "{'M1': ['A', 'notA'],\n",
       " 'M2': ['A', 'notA'],\n",
       " 'M3': ['A', 'notA'],\n",
       " 'M4': ['A', 'notA'],\n",
       " 'M5': ['A', 'notA'],\n",
       " 'P1': ['A', 'notA'],\n",
       " 'P2': ['A', 'notA'],\n",
       " 'P3': ['A', 'notA'],\n",
       " 'P4': ['A', 'notA'],\n",
       " 'F': ['A', 'notA']}"
      ]
     },
     "execution_count": 53,
     "metadata": {},
     "output_type": "execute_result"
    }
   ],
   "source": [
    "attr_label"
   ]
  },
  {
   "cell_type": "code",
   "execution_count": 50,
   "metadata": {},
   "outputs": [
    {
     "data": {
      "text/plain": [
       "'M1'"
      ]
     },
     "execution_count": 50,
     "metadata": {},
     "output_type": "execute_result"
    }
   ],
   "source": [
    "max( attr_label.keys(), key = lambda x: attr_label[x])"
   ]
  },
  {
   "cell_type": "code",
   "execution_count": 51,
   "metadata": {},
   "outputs": [],
   "source": [
    "key = lambda x: attr_label[x]"
   ]
  },
  {
   "cell_type": "code",
   "execution_count": 52,
   "metadata": {},
   "outputs": [
    {
     "data": {
      "text/plain": [
       "<function __main__.<lambda>(x)>"
      ]
     },
     "execution_count": 52,
     "metadata": {},
     "output_type": "execute_result"
    }
   ],
   "source": [
    "key"
   ]
  },
  {
   "cell_type": "code",
   "execution_count": 76,
   "metadata": {},
   "outputs": [],
   "source": [
    "import numpy as np\n",
    "A = [ [1,2,3],\n",
    "      [4,5,6],\n",
    "      [7,8,9],\n",
    "      [10,11,12]  ]\n",
    "B = np.array(A)"
   ]
  },
  {
   "cell_type": "code",
   "execution_count": 80,
   "metadata": {},
   "outputs": [
    {
     "data": {
      "text/plain": [
       "array([4, 5, 6])"
      ]
     },
     "execution_count": 80,
     "metadata": {},
     "output_type": "execute_result"
    }
   ],
   "source": [
    "B[:][1]"
   ]
  },
  {
   "cell_type": "code",
   "execution_count": null,
   "metadata": {},
   "outputs": [],
   "source": []
  }
 ],
 "metadata": {
  "kernelspec": {
   "display_name": "Python 3",
   "language": "python",
   "name": "python3"
  },
  "language_info": {
   "codemirror_mode": {
    "name": "ipython",
    "version": 3
   },
   "file_extension": ".py",
   "mimetype": "text/x-python",
   "name": "python",
   "nbconvert_exporter": "python",
   "pygments_lexer": "ipython3",
   "version": "3.6.8"
  }
 },
 "nbformat": 4,
 "nbformat_minor": 2
}
